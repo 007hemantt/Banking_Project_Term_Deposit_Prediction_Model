{
  "cells": [
    {
      "cell_type": "code",
      "execution_count": null,
      "metadata": {
        "id": "ugzNI9DVBIAz"
      },
      "outputs": [],
      "source": [
        "import pandas as pd\n",
        "import numpy as np\n",
        "import seaborn as sns\n",
        "from sklearn.model_selection import train_test_split,cross_val_score\n",
        "from sklearn.preprocessing import StandardScaler\n",
        "from sklearn.ensemble import RandomForestClassifier\n",
        "from sklearn.model_selection import GridSearchCV\n",
        "from sklearn.metrics import classification_report, roc_auc_score, roc_curve\n",
        "from sklearn.metrics import accuracy_score, precision_score, recall_score, f1_score\n",
        "\n",
        "import matplotlib.pyplot as plt\n",
        "from sklearn.impute import KNNImputer\n"
      ]
    },
    {
      "cell_type": "markdown",
      "metadata": {
        "id": "sHxhWyg7DycS"
      },
      "source": [
        "###To predict whether a client will subscribe to a term deposit based on the bank's marketing campaigns, we can use a machine learning algorithm such as logistic regression, decision tree, or random forest. Here are the steps to build a predictive model using ROC-AUC for evaluation:###"
      ]
    },
    {
      "cell_type": "markdown",
      "metadata": {
        "id": "CovCWWIrHyXB"
      },
      "source": [
        "#Load Data"
      ]
    },
    {
      "cell_type": "code",
      "execution_count": null,
      "metadata": {
        "id": "ft2ysCJVD3Li"
      },
      "outputs": [],
      "source": [
        "Data=pd.read_csv('preprocessed_data_Assignment_2.csv')"
      ]
    },
    {
      "cell_type": "code",
      "execution_count": null,
      "metadata": {
        "colab": {
          "base_uri": "https://localhost:8080/",
          "height": 424
        },
        "id": "wBy3jWieVEFs",
        "outputId": "780a9876-fb4e-4012-ed7d-6a22b23dfde0"
      },
      "outputs": [
        {
          "data": {
            "text/html": [
              "<div>\n",
              "<style scoped>\n",
              "    .dataframe tbody tr th:only-of-type {\n",
              "        vertical-align: middle;\n",
              "    }\n",
              "\n",
              "    .dataframe tbody tr th {\n",
              "        vertical-align: top;\n",
              "    }\n",
              "\n",
              "    .dataframe thead th {\n",
              "        text-align: right;\n",
              "    }\n",
              "</style>\n",
              "<table border=\"1\" class=\"dataframe\">\n",
              "  <thead>\n",
              "    <tr style=\"text-align: right;\">\n",
              "      <th></th>\n",
              "      <th>age</th>\n",
              "      <th>job</th>\n",
              "      <th>marital</th>\n",
              "      <th>education</th>\n",
              "      <th>default</th>\n",
              "      <th>housing</th>\n",
              "      <th>loan</th>\n",
              "      <th>contact</th>\n",
              "      <th>month</th>\n",
              "      <th>day_of_week</th>\n",
              "      <th>duration</th>\n",
              "      <th>campaign</th>\n",
              "      <th>poutcome</th>\n",
              "      <th>y</th>\n",
              "    </tr>\n",
              "  </thead>\n",
              "  <tbody>\n",
              "    <tr>\n",
              "      <th>0</th>\n",
              "      <td>49</td>\n",
              "      <td>1</td>\n",
              "      <td>1</td>\n",
              "      <td>2</td>\n",
              "      <td>0</td>\n",
              "      <td>0</td>\n",
              "      <td>0</td>\n",
              "      <td>0</td>\n",
              "      <td>7</td>\n",
              "      <td>4</td>\n",
              "      <td>227</td>\n",
              "      <td>4</td>\n",
              "      <td>1</td>\n",
              "      <td>0</td>\n",
              "    </tr>\n",
              "    <tr>\n",
              "      <th>1</th>\n",
              "      <td>37</td>\n",
              "      <td>2</td>\n",
              "      <td>1</td>\n",
              "      <td>6</td>\n",
              "      <td>0</td>\n",
              "      <td>0</td>\n",
              "      <td>0</td>\n",
              "      <td>1</td>\n",
              "      <td>7</td>\n",
              "      <td>4</td>\n",
              "      <td>202</td>\n",
              "      <td>2</td>\n",
              "      <td>0</td>\n",
              "      <td>0</td>\n",
              "    </tr>\n",
              "    <tr>\n",
              "      <th>2</th>\n",
              "      <td>55</td>\n",
              "      <td>5</td>\n",
              "      <td>1</td>\n",
              "      <td>0</td>\n",
              "      <td>0</td>\n",
              "      <td>0</td>\n",
              "      <td>0</td>\n",
              "      <td>0</td>\n",
              "      <td>3</td>\n",
              "      <td>1</td>\n",
              "      <td>550</td>\n",
              "      <td>1</td>\n",
              "      <td>1</td>\n",
              "      <td>1</td>\n",
              "    </tr>\n",
              "    <tr>\n",
              "      <th>3</th>\n",
              "      <td>36</td>\n",
              "      <td>0</td>\n",
              "      <td>1</td>\n",
              "      <td>6</td>\n",
              "      <td>0</td>\n",
              "      <td>1</td>\n",
              "      <td>0</td>\n",
              "      <td>1</td>\n",
              "      <td>6</td>\n",
              "      <td>1</td>\n",
              "      <td>120</td>\n",
              "      <td>2</td>\n",
              "      <td>1</td>\n",
              "      <td>0</td>\n",
              "    </tr>\n",
              "    <tr>\n",
              "      <th>4</th>\n",
              "      <td>55</td>\n",
              "      <td>5</td>\n",
              "      <td>0</td>\n",
              "      <td>6</td>\n",
              "      <td>0</td>\n",
              "      <td>0</td>\n",
              "      <td>0</td>\n",
              "      <td>0</td>\n",
              "      <td>4</td>\n",
              "      <td>3</td>\n",
              "      <td>368</td>\n",
              "      <td>2</td>\n",
              "      <td>1</td>\n",
              "      <td>0</td>\n",
              "    </tr>\n",
              "    <tr>\n",
              "      <th>...</th>\n",
              "      <td>...</td>\n",
              "      <td>...</td>\n",
              "      <td>...</td>\n",
              "      <td>...</td>\n",
              "      <td>...</td>\n",
              "      <td>...</td>\n",
              "      <td>...</td>\n",
              "      <td>...</td>\n",
              "      <td>...</td>\n",
              "      <td>...</td>\n",
              "      <td>...</td>\n",
              "      <td>...</td>\n",
              "      <td>...</td>\n",
              "      <td>...</td>\n",
              "    </tr>\n",
              "    <tr>\n",
              "      <th>32945</th>\n",
              "      <td>28</td>\n",
              "      <td>7</td>\n",
              "      <td>2</td>\n",
              "      <td>3</td>\n",
              "      <td>0</td>\n",
              "      <td>1</td>\n",
              "      <td>0</td>\n",
              "      <td>0</td>\n",
              "      <td>3</td>\n",
              "      <td>3</td>\n",
              "      <td>192</td>\n",
              "      <td>1</td>\n",
              "      <td>1</td>\n",
              "      <td>0</td>\n",
              "    </tr>\n",
              "    <tr>\n",
              "      <th>32946</th>\n",
              "      <td>52</td>\n",
              "      <td>9</td>\n",
              "      <td>1</td>\n",
              "      <td>5</td>\n",
              "      <td>0</td>\n",
              "      <td>1</td>\n",
              "      <td>0</td>\n",
              "      <td>0</td>\n",
              "      <td>7</td>\n",
              "      <td>0</td>\n",
              "      <td>64</td>\n",
              "      <td>1</td>\n",
              "      <td>0</td>\n",
              "      <td>0</td>\n",
              "    </tr>\n",
              "    <tr>\n",
              "      <th>32947</th>\n",
              "      <td>54</td>\n",
              "      <td>0</td>\n",
              "      <td>1</td>\n",
              "      <td>2</td>\n",
              "      <td>0</td>\n",
              "      <td>0</td>\n",
              "      <td>1</td>\n",
              "      <td>0</td>\n",
              "      <td>3</td>\n",
              "      <td>1</td>\n",
              "      <td>131</td>\n",
              "      <td>4</td>\n",
              "      <td>1</td>\n",
              "      <td>0</td>\n",
              "    </tr>\n",
              "    <tr>\n",
              "      <th>32948</th>\n",
              "      <td>29</td>\n",
              "      <td>0</td>\n",
              "      <td>1</td>\n",
              "      <td>6</td>\n",
              "      <td>0</td>\n",
              "      <td>0</td>\n",
              "      <td>0</td>\n",
              "      <td>1</td>\n",
              "      <td>6</td>\n",
              "      <td>0</td>\n",
              "      <td>165</td>\n",
              "      <td>1</td>\n",
              "      <td>1</td>\n",
              "      <td>0</td>\n",
              "    </tr>\n",
              "    <tr>\n",
              "      <th>32949</th>\n",
              "      <td>35</td>\n",
              "      <td>0</td>\n",
              "      <td>1</td>\n",
              "      <td>6</td>\n",
              "      <td>0</td>\n",
              "      <td>0</td>\n",
              "      <td>1</td>\n",
              "      <td>1</td>\n",
              "      <td>4</td>\n",
              "      <td>3</td>\n",
              "      <td>544</td>\n",
              "      <td>3</td>\n",
              "      <td>1</td>\n",
              "      <td>0</td>\n",
              "    </tr>\n",
              "  </tbody>\n",
              "</table>\n",
              "<p>32950 rows × 14 columns</p>\n",
              "</div>"
            ],
            "text/plain": [
              "       age  job  marital  education  default  housing  loan  contact  month  \\\n",
              "0       49    1        1          2        0        0     0        0      7   \n",
              "1       37    2        1          6        0        0     0        1      7   \n",
              "2       55    5        1          0        0        0     0        0      3   \n",
              "3       36    0        1          6        0        1     0        1      6   \n",
              "4       55    5        0          6        0        0     0        0      4   \n",
              "...    ...  ...      ...        ...      ...      ...   ...      ...    ...   \n",
              "32945   28    7        2          3        0        1     0        0      3   \n",
              "32946   52    9        1          5        0        1     0        0      7   \n",
              "32947   54    0        1          2        0        0     1        0      3   \n",
              "32948   29    0        1          6        0        0     0        1      6   \n",
              "32949   35    0        1          6        0        0     1        1      4   \n",
              "\n",
              "       day_of_week  duration  campaign  poutcome  y  \n",
              "0                4       227         4         1  0  \n",
              "1                4       202         2         0  0  \n",
              "2                1       550         1         1  1  \n",
              "3                1       120         2         1  0  \n",
              "4                3       368         2         1  0  \n",
              "...            ...       ...       ...       ... ..  \n",
              "32945            3       192         1         1  0  \n",
              "32946            0        64         1         0  0  \n",
              "32947            1       131         4         1  0  \n",
              "32948            0       165         1         1  0  \n",
              "32949            3       544         3         1  0  \n",
              "\n",
              "[32950 rows x 14 columns]"
            ]
          },
          "execution_count": 86,
          "metadata": {},
          "output_type": "execute_result"
        }
      ],
      "source": [
        "Data"
      ]
    },
    {
      "cell_type": "code",
      "execution_count": null,
      "metadata": {
        "colab": {
          "base_uri": "https://localhost:8080/",
          "height": 206
        },
        "id": "krPlWUy3VEw_",
        "outputId": "b5814379-0f5a-4bf6-90d4-1f42a7d3c2cc"
      },
      "outputs": [
        {
          "data": {
            "text/html": [
              "<div>\n",
              "<style scoped>\n",
              "    .dataframe tbody tr th:only-of-type {\n",
              "        vertical-align: middle;\n",
              "    }\n",
              "\n",
              "    .dataframe tbody tr th {\n",
              "        vertical-align: top;\n",
              "    }\n",
              "\n",
              "    .dataframe thead th {\n",
              "        text-align: right;\n",
              "    }\n",
              "</style>\n",
              "<table border=\"1\" class=\"dataframe\">\n",
              "  <thead>\n",
              "    <tr style=\"text-align: right;\">\n",
              "      <th></th>\n",
              "      <th>age</th>\n",
              "      <th>job</th>\n",
              "      <th>marital</th>\n",
              "      <th>education</th>\n",
              "      <th>default</th>\n",
              "      <th>housing</th>\n",
              "      <th>loan</th>\n",
              "      <th>contact</th>\n",
              "      <th>month</th>\n",
              "      <th>day_of_week</th>\n",
              "      <th>duration</th>\n",
              "      <th>campaign</th>\n",
              "      <th>poutcome</th>\n",
              "      <th>y</th>\n",
              "    </tr>\n",
              "  </thead>\n",
              "  <tbody>\n",
              "    <tr>\n",
              "      <th>0</th>\n",
              "      <td>49</td>\n",
              "      <td>1</td>\n",
              "      <td>1</td>\n",
              "      <td>2</td>\n",
              "      <td>0</td>\n",
              "      <td>0</td>\n",
              "      <td>0</td>\n",
              "      <td>0</td>\n",
              "      <td>7</td>\n",
              "      <td>4</td>\n",
              "      <td>227</td>\n",
              "      <td>4</td>\n",
              "      <td>1</td>\n",
              "      <td>0</td>\n",
              "    </tr>\n",
              "    <tr>\n",
              "      <th>1</th>\n",
              "      <td>37</td>\n",
              "      <td>2</td>\n",
              "      <td>1</td>\n",
              "      <td>6</td>\n",
              "      <td>0</td>\n",
              "      <td>0</td>\n",
              "      <td>0</td>\n",
              "      <td>1</td>\n",
              "      <td>7</td>\n",
              "      <td>4</td>\n",
              "      <td>202</td>\n",
              "      <td>2</td>\n",
              "      <td>0</td>\n",
              "      <td>0</td>\n",
              "    </tr>\n",
              "    <tr>\n",
              "      <th>2</th>\n",
              "      <td>55</td>\n",
              "      <td>5</td>\n",
              "      <td>1</td>\n",
              "      <td>0</td>\n",
              "      <td>0</td>\n",
              "      <td>0</td>\n",
              "      <td>0</td>\n",
              "      <td>0</td>\n",
              "      <td>3</td>\n",
              "      <td>1</td>\n",
              "      <td>550</td>\n",
              "      <td>1</td>\n",
              "      <td>1</td>\n",
              "      <td>1</td>\n",
              "    </tr>\n",
              "    <tr>\n",
              "      <th>3</th>\n",
              "      <td>36</td>\n",
              "      <td>0</td>\n",
              "      <td>1</td>\n",
              "      <td>6</td>\n",
              "      <td>0</td>\n",
              "      <td>1</td>\n",
              "      <td>0</td>\n",
              "      <td>1</td>\n",
              "      <td>6</td>\n",
              "      <td>1</td>\n",
              "      <td>120</td>\n",
              "      <td>2</td>\n",
              "      <td>1</td>\n",
              "      <td>0</td>\n",
              "    </tr>\n",
              "    <tr>\n",
              "      <th>4</th>\n",
              "      <td>55</td>\n",
              "      <td>5</td>\n",
              "      <td>0</td>\n",
              "      <td>6</td>\n",
              "      <td>0</td>\n",
              "      <td>0</td>\n",
              "      <td>0</td>\n",
              "      <td>0</td>\n",
              "      <td>4</td>\n",
              "      <td>3</td>\n",
              "      <td>368</td>\n",
              "      <td>2</td>\n",
              "      <td>1</td>\n",
              "      <td>0</td>\n",
              "    </tr>\n",
              "  </tbody>\n",
              "</table>\n",
              "</div>"
            ],
            "text/plain": [
              "   age  job  marital  education  default  housing  loan  contact  month  \\\n",
              "0   49    1        1          2        0        0     0        0      7   \n",
              "1   37    2        1          6        0        0     0        1      7   \n",
              "2   55    5        1          0        0        0     0        0      3   \n",
              "3   36    0        1          6        0        1     0        1      6   \n",
              "4   55    5        0          6        0        0     0        0      4   \n",
              "\n",
              "   day_of_week  duration  campaign  poutcome  y  \n",
              "0            4       227         4         1  0  \n",
              "1            4       202         2         0  0  \n",
              "2            1       550         1         1  1  \n",
              "3            1       120         2         1  0  \n",
              "4            3       368         2         1  0  "
            ]
          },
          "execution_count": 87,
          "metadata": {},
          "output_type": "execute_result"
        }
      ],
      "source": [
        "Data.head()"
      ]
    },
    {
      "cell_type": "code",
      "execution_count": null,
      "metadata": {
        "colab": {
          "base_uri": "https://localhost:8080/"
        },
        "id": "BBtNXl8AKsMl",
        "outputId": "f2066af8-4332-46be-f6f8-5f895fe1ff7c"
      },
      "outputs": [
        {
          "data": {
            "text/plain": [
              "age            int64\n",
              "job            int64\n",
              "marital        int64\n",
              "education      int64\n",
              "default        int64\n",
              "housing        int64\n",
              "loan           int64\n",
              "contact        int64\n",
              "month          int64\n",
              "day_of_week    int64\n",
              "duration       int64\n",
              "campaign       int64\n",
              "poutcome       int64\n",
              "y              int64\n",
              "dtype: object"
            ]
          },
          "execution_count": 88,
          "metadata": {},
          "output_type": "execute_result"
        }
      ],
      "source": [
        "Data.dtypes"
      ]
    },
    {
      "cell_type": "markdown",
      "metadata": {
        "id": "WqB7BTcEU5ZS"
      },
      "source": [
        "**Find the number of records and columns**"
      ]
    },
    {
      "cell_type": "code",
      "execution_count": null,
      "metadata": {
        "colab": {
          "base_uri": "https://localhost:8080/"
        },
        "id": "U0I6EpDXUhVS",
        "outputId": "1132acf2-12c8-462d-d9f9-0e5dc84ab462"
      },
      "outputs": [
        {
          "data": {
            "text/plain": [
              "(32950, 14)"
            ]
          },
          "execution_count": 89,
          "metadata": {},
          "output_type": "execute_result"
        }
      ],
      "source": [
        "Data.shape"
      ]
    },
    {
      "cell_type": "markdown",
      "metadata": {
        "id": "C3sDuoQwVSl-"
      },
      "source": [
        "**Use the .info() method to find the number of Non Null entries and Data Type of each feature**"
      ]
    },
    {
      "cell_type": "code",
      "execution_count": null,
      "metadata": {
        "colab": {
          "base_uri": "https://localhost:8080/"
        },
        "id": "jDYvNJx7VXlv",
        "outputId": "fa3f1889-0cf2-44c3-bf06-9b0f7acf4d92"
      },
      "outputs": [
        {
          "name": "stdout",
          "output_type": "stream",
          "text": [
            "<class 'pandas.core.frame.DataFrame'>\n",
            "RangeIndex: 32950 entries, 0 to 32949\n",
            "Data columns (total 14 columns):\n",
            " #   Column       Non-Null Count  Dtype\n",
            "---  ------       --------------  -----\n",
            " 0   age          32950 non-null  int64\n",
            " 1   job          32950 non-null  int64\n",
            " 2   marital      32950 non-null  int64\n",
            " 3   education    32950 non-null  int64\n",
            " 4   default      32950 non-null  int64\n",
            " 5   housing      32950 non-null  int64\n",
            " 6   loan         32950 non-null  int64\n",
            " 7   contact      32950 non-null  int64\n",
            " 8   month        32950 non-null  int64\n",
            " 9   day_of_week  32950 non-null  int64\n",
            " 10  duration     32950 non-null  int64\n",
            " 11  campaign     32950 non-null  int64\n",
            " 12  poutcome     32950 non-null  int64\n",
            " 13  y            32950 non-null  int64\n",
            "dtypes: int64(14)\n",
            "memory usage: 3.5 MB\n"
          ]
        }
      ],
      "source": [
        "Data.info()"
      ]
    },
    {
      "cell_type": "code",
      "execution_count": null,
      "metadata": {
        "colab": {
          "base_uri": "https://localhost:8080/"
        },
        "id": "SsbGx_H8Y3Fe",
        "outputId": "62f6d33b-bec3-42cd-d8ae-38986dee9564"
      },
      "outputs": [
        {
          "data": {
            "text/plain": [
              "55"
            ]
          },
          "execution_count": 91,
          "metadata": {},
          "output_type": "execute_result"
        }
      ],
      "source": [
        "Data.duplicated().sum()"
      ]
    },
    {
      "cell_type": "code",
      "execution_count": null,
      "metadata": {
        "id": "N8rJO0MWO1xj",
        "outputId": "0b3bd8fa-776b-46b5-bd47-2e500791923e"
      },
      "outputs": [
        {
          "name": "stdout",
          "output_type": "stream",
          "text": [
            "age            0\n",
            "job            0\n",
            "marital        0\n",
            "education      0\n",
            "default        0\n",
            "housing        0\n",
            "loan           0\n",
            "contact        0\n",
            "month          0\n",
            "day_of_week    0\n",
            "duration       0\n",
            "campaign       0\n",
            "poutcome       0\n",
            "y              0\n",
            "dtype: int64\n"
          ]
        }
      ],
      "source": [
        "# check for missing values\n",
        "print(Data.isnull().sum())"
      ]
    },
    {
      "cell_type": "code",
      "execution_count": null,
      "metadata": {
        "id": "kb5tOMzTO1xj",
        "outputId": "22ce51cc-b4c5-4c1c-d066-d2f2bfa7b935"
      },
      "outputs": [
        {
          "name": "stdout",
          "output_type": "stream",
          "text": [
            "age            int64\n",
            "job            int64\n",
            "marital        int64\n",
            "education      int64\n",
            "default        int64\n",
            "housing        int64\n",
            "loan           int64\n",
            "contact        int64\n",
            "month          int64\n",
            "day_of_week    int64\n",
            "duration       int64\n",
            "campaign       int64\n",
            "poutcome       int64\n",
            "y              int64\n",
            "dtype: object\n"
          ]
        }
      ],
      "source": [
        "# check the data types\n",
        "print(Data.dtypes)"
      ]
    },
    {
      "cell_type": "code",
      "execution_count": null,
      "metadata": {
        "id": "3iNwe9JkO1xk",
        "outputId": "eed64891-7a14-48f2-959e-389bd935e6b0"
      },
      "outputs": [
        {
          "data": {
            "text/html": [
              "<div>\n",
              "<style scoped>\n",
              "    .dataframe tbody tr th:only-of-type {\n",
              "        vertical-align: middle;\n",
              "    }\n",
              "\n",
              "    .dataframe tbody tr th {\n",
              "        vertical-align: top;\n",
              "    }\n",
              "\n",
              "    .dataframe thead th {\n",
              "        text-align: right;\n",
              "    }\n",
              "</style>\n",
              "<table border=\"1\" class=\"dataframe\">\n",
              "  <thead>\n",
              "    <tr style=\"text-align: right;\">\n",
              "      <th></th>\n",
              "      <th>age</th>\n",
              "      <th>job</th>\n",
              "      <th>marital</th>\n",
              "      <th>education</th>\n",
              "      <th>default</th>\n",
              "      <th>housing</th>\n",
              "      <th>loan</th>\n",
              "      <th>contact</th>\n",
              "      <th>month</th>\n",
              "      <th>day_of_week</th>\n",
              "      <th>duration</th>\n",
              "      <th>campaign</th>\n",
              "      <th>poutcome</th>\n",
              "      <th>y</th>\n",
              "    </tr>\n",
              "  </thead>\n",
              "  <tbody>\n",
              "    <tr>\n",
              "      <th>count</th>\n",
              "      <td>32950.000000</td>\n",
              "      <td>32950.000000</td>\n",
              "      <td>32950.000000</td>\n",
              "      <td>32950.000000</td>\n",
              "      <td>32950.000000</td>\n",
              "      <td>32950.000000</td>\n",
              "      <td>32950.000000</td>\n",
              "      <td>32950.000000</td>\n",
              "      <td>32950.000000</td>\n",
              "      <td>32950.000000</td>\n",
              "      <td>32950.000000</td>\n",
              "      <td>32950.000000</td>\n",
              "      <td>32950.000000</td>\n",
              "      <td>32950.000000</td>\n",
              "    </tr>\n",
              "    <tr>\n",
              "      <th>mean</th>\n",
              "      <td>39.605584</td>\n",
              "      <td>3.634901</td>\n",
              "      <td>1.169408</td>\n",
              "      <td>3.706434</td>\n",
              "      <td>0.000091</td>\n",
              "      <td>0.547800</td>\n",
              "      <td>0.152443</td>\n",
              "      <td>0.365463</td>\n",
              "      <td>4.233414</td>\n",
              "      <td>2.000546</td>\n",
              "      <td>227.795357</td>\n",
              "      <td>2.189469</td>\n",
              "      <td>0.929469</td>\n",
              "      <td>0.112656</td>\n",
              "    </tr>\n",
              "    <tr>\n",
              "      <th>std</th>\n",
              "      <td>9.079007</td>\n",
              "      <td>3.548829</td>\n",
              "      <td>0.603146</td>\n",
              "      <td>2.081246</td>\n",
              "      <td>0.009542</td>\n",
              "      <td>0.497717</td>\n",
              "      <td>0.359455</td>\n",
              "      <td>0.481567</td>\n",
              "      <td>2.319693</td>\n",
              "      <td>1.400260</td>\n",
              "      <td>158.757258</td>\n",
              "      <td>1.362850</td>\n",
              "      <td>0.364187</td>\n",
              "      <td>0.316176</td>\n",
              "    </tr>\n",
              "    <tr>\n",
              "      <th>min</th>\n",
              "      <td>26.000000</td>\n",
              "      <td>0.000000</td>\n",
              "      <td>0.000000</td>\n",
              "      <td>0.000000</td>\n",
              "      <td>0.000000</td>\n",
              "      <td>0.000000</td>\n",
              "      <td>0.000000</td>\n",
              "      <td>0.000000</td>\n",
              "      <td>0.000000</td>\n",
              "      <td>0.000000</td>\n",
              "      <td>36.000000</td>\n",
              "      <td>1.000000</td>\n",
              "      <td>0.000000</td>\n",
              "      <td>0.000000</td>\n",
              "    </tr>\n",
              "    <tr>\n",
              "      <th>25%</th>\n",
              "      <td>32.000000</td>\n",
              "      <td>0.000000</td>\n",
              "      <td>1.000000</td>\n",
              "      <td>2.000000</td>\n",
              "      <td>0.000000</td>\n",
              "      <td>0.000000</td>\n",
              "      <td>0.000000</td>\n",
              "      <td>0.000000</td>\n",
              "      <td>3.000000</td>\n",
              "      <td>1.000000</td>\n",
              "      <td>103.000000</td>\n",
              "      <td>1.000000</td>\n",
              "      <td>1.000000</td>\n",
              "      <td>0.000000</td>\n",
              "    </tr>\n",
              "    <tr>\n",
              "      <th>50%</th>\n",
              "      <td>38.000000</td>\n",
              "      <td>2.000000</td>\n",
              "      <td>1.000000</td>\n",
              "      <td>3.000000</td>\n",
              "      <td>0.000000</td>\n",
              "      <td>1.000000</td>\n",
              "      <td>0.000000</td>\n",
              "      <td>0.000000</td>\n",
              "      <td>4.000000</td>\n",
              "      <td>2.000000</td>\n",
              "      <td>180.000000</td>\n",
              "      <td>2.000000</td>\n",
              "      <td>1.000000</td>\n",
              "      <td>0.000000</td>\n",
              "    </tr>\n",
              "    <tr>\n",
              "      <th>75%</th>\n",
              "      <td>47.000000</td>\n",
              "      <td>7.000000</td>\n",
              "      <td>2.000000</td>\n",
              "      <td>6.000000</td>\n",
              "      <td>0.000000</td>\n",
              "      <td>1.000000</td>\n",
              "      <td>0.000000</td>\n",
              "      <td>1.000000</td>\n",
              "      <td>6.000000</td>\n",
              "      <td>3.000000</td>\n",
              "      <td>319.000000</td>\n",
              "      <td>3.000000</td>\n",
              "      <td>1.000000</td>\n",
              "      <td>0.000000</td>\n",
              "    </tr>\n",
              "    <tr>\n",
              "      <th>max</th>\n",
              "      <td>55.000000</td>\n",
              "      <td>10.000000</td>\n",
              "      <td>2.000000</td>\n",
              "      <td>6.000000</td>\n",
              "      <td>1.000000</td>\n",
              "      <td>1.000000</td>\n",
              "      <td>1.000000</td>\n",
              "      <td>1.000000</td>\n",
              "      <td>9.000000</td>\n",
              "      <td>4.000000</td>\n",
              "      <td>550.000000</td>\n",
              "      <td>5.000000</td>\n",
              "      <td>2.000000</td>\n",
              "      <td>1.000000</td>\n",
              "    </tr>\n",
              "  </tbody>\n",
              "</table>\n",
              "</div>"
            ],
            "text/plain": [
              "                age           job       marital     education       default  \\\n",
              "count  32950.000000  32950.000000  32950.000000  32950.000000  32950.000000   \n",
              "mean      39.605584      3.634901      1.169408      3.706434      0.000091   \n",
              "std        9.079007      3.548829      0.603146      2.081246      0.009542   \n",
              "min       26.000000      0.000000      0.000000      0.000000      0.000000   \n",
              "25%       32.000000      0.000000      1.000000      2.000000      0.000000   \n",
              "50%       38.000000      2.000000      1.000000      3.000000      0.000000   \n",
              "75%       47.000000      7.000000      2.000000      6.000000      0.000000   \n",
              "max       55.000000     10.000000      2.000000      6.000000      1.000000   \n",
              "\n",
              "            housing          loan       contact         month   day_of_week  \\\n",
              "count  32950.000000  32950.000000  32950.000000  32950.000000  32950.000000   \n",
              "mean       0.547800      0.152443      0.365463      4.233414      2.000546   \n",
              "std        0.497717      0.359455      0.481567      2.319693      1.400260   \n",
              "min        0.000000      0.000000      0.000000      0.000000      0.000000   \n",
              "25%        0.000000      0.000000      0.000000      3.000000      1.000000   \n",
              "50%        1.000000      0.000000      0.000000      4.000000      2.000000   \n",
              "75%        1.000000      0.000000      1.000000      6.000000      3.000000   \n",
              "max        1.000000      1.000000      1.000000      9.000000      4.000000   \n",
              "\n",
              "           duration      campaign      poutcome             y  \n",
              "count  32950.000000  32950.000000  32950.000000  32950.000000  \n",
              "mean     227.795357      2.189469      0.929469      0.112656  \n",
              "std      158.757258      1.362850      0.364187      0.316176  \n",
              "min       36.000000      1.000000      0.000000      0.000000  \n",
              "25%      103.000000      1.000000      1.000000      0.000000  \n",
              "50%      180.000000      2.000000      1.000000      0.000000  \n",
              "75%      319.000000      3.000000      1.000000      0.000000  \n",
              "max      550.000000      5.000000      2.000000      1.000000  "
            ]
          },
          "execution_count": 94,
          "metadata": {},
          "output_type": "execute_result"
        }
      ],
      "source": [
        "# describe the numerical variables\n",
        "Data.describe()"
      ]
    },
    {
      "cell_type": "code",
      "execution_count": null,
      "metadata": {
        "id": "mwp4Q0WBO1xl",
        "outputId": "54f6b250-c3ef-40d1-dd06-64f6d0d660c3"
      },
      "outputs": [
        {
          "data": {
            "text/html": [
              "<div>\n",
              "<style scoped>\n",
              "    .dataframe tbody tr th:only-of-type {\n",
              "        vertical-align: middle;\n",
              "    }\n",
              "\n",
              "    .dataframe tbody tr th {\n",
              "        vertical-align: top;\n",
              "    }\n",
              "\n",
              "    .dataframe thead th {\n",
              "        text-align: right;\n",
              "    }\n",
              "</style>\n",
              "<table border=\"1\" class=\"dataframe\">\n",
              "  <thead>\n",
              "    <tr style=\"text-align: right;\">\n",
              "      <th></th>\n",
              "      <th>age</th>\n",
              "      <th>job</th>\n",
              "      <th>marital</th>\n",
              "      <th>education</th>\n",
              "      <th>default</th>\n",
              "      <th>housing</th>\n",
              "      <th>loan</th>\n",
              "      <th>contact</th>\n",
              "      <th>month</th>\n",
              "      <th>day_of_week</th>\n",
              "      <th>duration</th>\n",
              "      <th>campaign</th>\n",
              "      <th>poutcome</th>\n",
              "      <th>y</th>\n",
              "    </tr>\n",
              "  </thead>\n",
              "  <tbody>\n",
              "    <tr>\n",
              "      <th>age</th>\n",
              "      <td>1.000000</td>\n",
              "      <td>-0.021699</td>\n",
              "      <td>-0.405322</td>\n",
              "      <td>-0.121362</td>\n",
              "      <td>0.002867</td>\n",
              "      <td>-0.003995</td>\n",
              "      <td>-0.003012</td>\n",
              "      <td>0.024952</td>\n",
              "      <td>-0.033614</td>\n",
              "      <td>-0.022997</td>\n",
              "      <td>-0.000494</td>\n",
              "      <td>0.007063</td>\n",
              "      <td>0.018417</td>\n",
              "      <td>-0.006153</td>\n",
              "    </tr>\n",
              "    <tr>\n",
              "      <th>job</th>\n",
              "      <td>-0.021699</td>\n",
              "      <td>1.000000</td>\n",
              "      <td>0.028103</td>\n",
              "      <td>0.131251</td>\n",
              "      <td>0.015322</td>\n",
              "      <td>0.009210</td>\n",
              "      <td>-0.013945</td>\n",
              "      <td>-0.031371</td>\n",
              "      <td>-0.027566</td>\n",
              "      <td>-0.002116</td>\n",
              "      <td>-0.005580</td>\n",
              "      <td>-0.008350</td>\n",
              "      <td>0.006446</td>\n",
              "      <td>0.025676</td>\n",
              "    </tr>\n",
              "    <tr>\n",
              "      <th>marital</th>\n",
              "      <td>-0.405322</td>\n",
              "      <td>0.028103</td>\n",
              "      <td>1.000000</td>\n",
              "      <td>0.111112</td>\n",
              "      <td>-0.002680</td>\n",
              "      <td>0.017711</td>\n",
              "      <td>0.007988</td>\n",
              "      <td>-0.054023</td>\n",
              "      <td>-0.005747</td>\n",
              "      <td>0.002693</td>\n",
              "      <td>0.006257</td>\n",
              "      <td>-0.005635</td>\n",
              "      <td>0.004104</td>\n",
              "      <td>0.049361</td>\n",
              "    </tr>\n",
              "    <tr>\n",
              "      <th>education</th>\n",
              "      <td>-0.121362</td>\n",
              "      <td>0.131251</td>\n",
              "      <td>0.111112</td>\n",
              "      <td>1.000000</td>\n",
              "      <td>0.002874</td>\n",
              "      <td>0.022380</td>\n",
              "      <td>0.010166</td>\n",
              "      <td>-0.109040</td>\n",
              "      <td>-0.085088</td>\n",
              "      <td>-0.016576</td>\n",
              "      <td>-0.022133</td>\n",
              "      <td>-0.000067</td>\n",
              "      <td>0.016647</td>\n",
              "      <td>0.058562</td>\n",
              "    </tr>\n",
              "    <tr>\n",
              "      <th>default</th>\n",
              "      <td>0.002867</td>\n",
              "      <td>0.015322</td>\n",
              "      <td>-0.002680</td>\n",
              "      <td>0.002874</td>\n",
              "      <td>1.000000</td>\n",
              "      <td>-0.004112</td>\n",
              "      <td>-0.004047</td>\n",
              "      <td>-0.007242</td>\n",
              "      <td>-0.005074</td>\n",
              "      <td>0.006811</td>\n",
              "      <td>-0.007481</td>\n",
              "      <td>-0.005995</td>\n",
              "      <td>-0.006886</td>\n",
              "      <td>-0.003400</td>\n",
              "    </tr>\n",
              "    <tr>\n",
              "      <th>housing</th>\n",
              "      <td>-0.003995</td>\n",
              "      <td>0.009210</td>\n",
              "      <td>0.017711</td>\n",
              "      <td>0.022380</td>\n",
              "      <td>-0.004112</td>\n",
              "      <td>1.000000</td>\n",
              "      <td>0.037050</td>\n",
              "      <td>-0.078204</td>\n",
              "      <td>-0.016748</td>\n",
              "      <td>0.003664</td>\n",
              "      <td>-0.011294</td>\n",
              "      <td>-0.011987</td>\n",
              "      <td>-0.015725</td>\n",
              "      <td>0.009753</td>\n",
              "    </tr>\n",
              "    <tr>\n",
              "      <th>loan</th>\n",
              "      <td>-0.003012</td>\n",
              "      <td>-0.013945</td>\n",
              "      <td>0.007988</td>\n",
              "      <td>0.010166</td>\n",
              "      <td>-0.004047</td>\n",
              "      <td>0.037050</td>\n",
              "      <td>1.000000</td>\n",
              "      <td>-0.014854</td>\n",
              "      <td>-0.008315</td>\n",
              "      <td>-0.012768</td>\n",
              "      <td>-0.003653</td>\n",
              "      <td>0.012719</td>\n",
              "      <td>-0.002950</td>\n",
              "      <td>-0.000499</td>\n",
              "    </tr>\n",
              "    <tr>\n",
              "      <th>contact</th>\n",
              "      <td>0.024952</td>\n",
              "      <td>-0.031371</td>\n",
              "      <td>-0.054023</td>\n",
              "      <td>-0.109040</td>\n",
              "      <td>-0.007242</td>\n",
              "      <td>-0.078204</td>\n",
              "      <td>-0.014854</td>\n",
              "      <td>1.000000</td>\n",
              "      <td>0.275416</td>\n",
              "      <td>-0.007182</td>\n",
              "      <td>-0.034666</td>\n",
              "      <td>0.065177</td>\n",
              "      <td>0.121541</td>\n",
              "      <td>-0.143238</td>\n",
              "    </tr>\n",
              "    <tr>\n",
              "      <th>month</th>\n",
              "      <td>-0.033614</td>\n",
              "      <td>-0.027566</td>\n",
              "      <td>-0.005747</td>\n",
              "      <td>-0.085088</td>\n",
              "      <td>-0.005074</td>\n",
              "      <td>-0.016748</td>\n",
              "      <td>-0.008315</td>\n",
              "      <td>0.275416</td>\n",
              "      <td>1.000000</td>\n",
              "      <td>0.023675</td>\n",
              "      <td>0.009009</td>\n",
              "      <td>-0.061779</td>\n",
              "      <td>-0.065620</td>\n",
              "      <td>-0.007508</td>\n",
              "    </tr>\n",
              "    <tr>\n",
              "      <th>day_of_week</th>\n",
              "      <td>-0.022997</td>\n",
              "      <td>-0.002116</td>\n",
              "      <td>0.002693</td>\n",
              "      <td>-0.016576</td>\n",
              "      <td>0.006811</td>\n",
              "      <td>0.003664</td>\n",
              "      <td>-0.012768</td>\n",
              "      <td>-0.007182</td>\n",
              "      <td>0.023675</td>\n",
              "      <td>1.000000</td>\n",
              "      <td>0.031457</td>\n",
              "      <td>-0.053507</td>\n",
              "      <td>0.014240</td>\n",
              "      <td>0.011926</td>\n",
              "    </tr>\n",
              "    <tr>\n",
              "      <th>duration</th>\n",
              "      <td>-0.000494</td>\n",
              "      <td>-0.005580</td>\n",
              "      <td>0.006257</td>\n",
              "      <td>-0.022133</td>\n",
              "      <td>-0.007481</td>\n",
              "      <td>-0.011294</td>\n",
              "      <td>-0.003653</td>\n",
              "      <td>-0.034666</td>\n",
              "      <td>0.009009</td>\n",
              "      <td>0.031457</td>\n",
              "      <td>1.000000</td>\n",
              "      <td>-0.080557</td>\n",
              "      <td>0.036757</td>\n",
              "      <td>0.385909</td>\n",
              "    </tr>\n",
              "    <tr>\n",
              "      <th>campaign</th>\n",
              "      <td>0.007063</td>\n",
              "      <td>-0.008350</td>\n",
              "      <td>-0.005635</td>\n",
              "      <td>-0.000067</td>\n",
              "      <td>-0.005995</td>\n",
              "      <td>-0.011987</td>\n",
              "      <td>0.012719</td>\n",
              "      <td>0.065177</td>\n",
              "      <td>-0.061779</td>\n",
              "      <td>-0.053507</td>\n",
              "      <td>-0.080557</td>\n",
              "      <td>1.000000</td>\n",
              "      <td>0.028271</td>\n",
              "      <td>-0.065736</td>\n",
              "    </tr>\n",
              "    <tr>\n",
              "      <th>poutcome</th>\n",
              "      <td>0.018417</td>\n",
              "      <td>0.006446</td>\n",
              "      <td>0.004104</td>\n",
              "      <td>0.016647</td>\n",
              "      <td>-0.006886</td>\n",
              "      <td>-0.015725</td>\n",
              "      <td>-0.002950</td>\n",
              "      <td>0.121541</td>\n",
              "      <td>-0.065620</td>\n",
              "      <td>0.014240</td>\n",
              "      <td>0.036757</td>\n",
              "      <td>0.028271</td>\n",
              "      <td>1.000000</td>\n",
              "      <td>0.127784</td>\n",
              "    </tr>\n",
              "    <tr>\n",
              "      <th>y</th>\n",
              "      <td>-0.006153</td>\n",
              "      <td>0.025676</td>\n",
              "      <td>0.049361</td>\n",
              "      <td>0.058562</td>\n",
              "      <td>-0.003400</td>\n",
              "      <td>0.009753</td>\n",
              "      <td>-0.000499</td>\n",
              "      <td>-0.143238</td>\n",
              "      <td>-0.007508</td>\n",
              "      <td>0.011926</td>\n",
              "      <td>0.385909</td>\n",
              "      <td>-0.065736</td>\n",
              "      <td>0.127784</td>\n",
              "      <td>1.000000</td>\n",
              "    </tr>\n",
              "  </tbody>\n",
              "</table>\n",
              "</div>"
            ],
            "text/plain": [
              "                  age       job   marital  education   default   housing  \\\n",
              "age          1.000000 -0.021699 -0.405322  -0.121362  0.002867 -0.003995   \n",
              "job         -0.021699  1.000000  0.028103   0.131251  0.015322  0.009210   \n",
              "marital     -0.405322  0.028103  1.000000   0.111112 -0.002680  0.017711   \n",
              "education   -0.121362  0.131251  0.111112   1.000000  0.002874  0.022380   \n",
              "default      0.002867  0.015322 -0.002680   0.002874  1.000000 -0.004112   \n",
              "housing     -0.003995  0.009210  0.017711   0.022380 -0.004112  1.000000   \n",
              "loan        -0.003012 -0.013945  0.007988   0.010166 -0.004047  0.037050   \n",
              "contact      0.024952 -0.031371 -0.054023  -0.109040 -0.007242 -0.078204   \n",
              "month       -0.033614 -0.027566 -0.005747  -0.085088 -0.005074 -0.016748   \n",
              "day_of_week -0.022997 -0.002116  0.002693  -0.016576  0.006811  0.003664   \n",
              "duration    -0.000494 -0.005580  0.006257  -0.022133 -0.007481 -0.011294   \n",
              "campaign     0.007063 -0.008350 -0.005635  -0.000067 -0.005995 -0.011987   \n",
              "poutcome     0.018417  0.006446  0.004104   0.016647 -0.006886 -0.015725   \n",
              "y           -0.006153  0.025676  0.049361   0.058562 -0.003400  0.009753   \n",
              "\n",
              "                 loan   contact     month  day_of_week  duration  campaign  \\\n",
              "age         -0.003012  0.024952 -0.033614    -0.022997 -0.000494  0.007063   \n",
              "job         -0.013945 -0.031371 -0.027566    -0.002116 -0.005580 -0.008350   \n",
              "marital      0.007988 -0.054023 -0.005747     0.002693  0.006257 -0.005635   \n",
              "education    0.010166 -0.109040 -0.085088    -0.016576 -0.022133 -0.000067   \n",
              "default     -0.004047 -0.007242 -0.005074     0.006811 -0.007481 -0.005995   \n",
              "housing      0.037050 -0.078204 -0.016748     0.003664 -0.011294 -0.011987   \n",
              "loan         1.000000 -0.014854 -0.008315    -0.012768 -0.003653  0.012719   \n",
              "contact     -0.014854  1.000000  0.275416    -0.007182 -0.034666  0.065177   \n",
              "month       -0.008315  0.275416  1.000000     0.023675  0.009009 -0.061779   \n",
              "day_of_week -0.012768 -0.007182  0.023675     1.000000  0.031457 -0.053507   \n",
              "duration    -0.003653 -0.034666  0.009009     0.031457  1.000000 -0.080557   \n",
              "campaign     0.012719  0.065177 -0.061779    -0.053507 -0.080557  1.000000   \n",
              "poutcome    -0.002950  0.121541 -0.065620     0.014240  0.036757  0.028271   \n",
              "y           -0.000499 -0.143238 -0.007508     0.011926  0.385909 -0.065736   \n",
              "\n",
              "             poutcome         y  \n",
              "age          0.018417 -0.006153  \n",
              "job          0.006446  0.025676  \n",
              "marital      0.004104  0.049361  \n",
              "education    0.016647  0.058562  \n",
              "default     -0.006886 -0.003400  \n",
              "housing     -0.015725  0.009753  \n",
              "loan        -0.002950 -0.000499  \n",
              "contact      0.121541 -0.143238  \n",
              "month       -0.065620 -0.007508  \n",
              "day_of_week  0.014240  0.011926  \n",
              "duration     0.036757  0.385909  \n",
              "campaign     0.028271 -0.065736  \n",
              "poutcome     1.000000  0.127784  \n",
              "y            0.127784  1.000000  "
            ]
          },
          "execution_count": 95,
          "metadata": {},
          "output_type": "execute_result"
        }
      ],
      "source": [
        "Data.corr()"
      ]
    },
    {
      "cell_type": "code",
      "execution_count": null,
      "metadata": {
        "id": "m51s9BMHO1xl",
        "outputId": "a59628cf-270a-4df8-efea-6cd055bf4fdc"
      },
      "outputs": [
        {
          "name": "stdout",
          "output_type": "stream",
          "text": [
            "0    0.887344\n",
            "1    0.112656\n",
            "Name: y, dtype: float64\n"
          ]
        }
      ],
      "source": [
        "# check the distribution of the target variable\n",
        "print(Data['y'].value_counts(normalize=True))"
      ]
    },
    {
      "cell_type": "markdown",
      "metadata": {
        "id": "OpXWD7JWO1xm"
      },
      "source": [
        "# Define the Variable"
      ]
    },
    {
      "cell_type": "code",
      "execution_count": null,
      "metadata": {
        "id": "CyXFeSC2O1xm"
      },
      "outputs": [],
      "source": [
        "y = Data[\"y\"]\n",
        "Data = Data.drop([\"y\"], axis=1)"
      ]
    },
    {
      "cell_type": "code",
      "execution_count": null,
      "metadata": {
        "id": "o4_xe6iqO1xn",
        "outputId": "a352daea-a61d-4bcb-9d77-cce70db63e3e"
      },
      "outputs": [
        {
          "data": {
            "image/png": "[encoded data removed]",
            "text/plain": [
              "<Figure size 640x480 with 1 Axes>"
            ]
          },
          "metadata": {},
          "output_type": "display_data"
        }
      ],
      "source": [
        "# visualize the distribution of the target variable\n",
        "sns.countplot(x=y)\n",
        "plt.show()"
      ]
    },
    {
      "cell_type": "code",
      "execution_count": null,
      "metadata": {
        "id": "n-44C27QO1xu"
      },
      "outputs": [],
      "source": [
        "# # visualize the distribution of the target variable\n",
        "# sns.countplot(x='y', data=Data)\n",
        "# plt.show()"
      ]
    },
    {
      "cell_type": "code",
      "execution_count": null,
      "metadata": {
        "id": "u_oHapxRO1xv"
      },
      "outputs": [],
      "source": []
    },
    {
      "cell_type": "code",
      "execution_count": null,
      "metadata": {
        "id": "vvnKNvoMO1xv"
      },
      "outputs": [],
      "source": [
        "\n",
        "\n",
        "# plt.bar(Data['y'].value_counts().index, Data['y'].value_counts(normalize=True))\n",
        "# plt.title(\"Distribution of target variable\")\n",
        "# plt.xlabel(\"Target variable\")\n",
        "# plt.ylabel(\"Proportion\")\n",
        "# plt.show()"
      ]
    },
    {
      "cell_type": "code",
      "execution_count": null,
      "metadata": {
        "id": "piTFh9o2O1xx",
        "outputId": "af825623-3b52-4485-8e70-5ab0780d6ca1"
      },
      "outputs": [
        {
          "data": {
            "image/png": "[encoded data removed]",
            "text/plain": [
              "<Figure size 640x480 with 1 Axes>"
            ]
          },
          "metadata": {},
          "output_type": "display_data"
        },
        {
          "data": {
            "image/png": "[encoded data removed]",
            "text/plain": [
              "<Figure size 640x480 with 1 Axes>"
            ]
          },
          "metadata": {},
          "output_type": "display_data"
        },
        {
          "data": {
            "image/png": "[encoded data removed]",
            "text/plain": [
              "<Figure size 640x480 with 1 Axes>"
            ]
          },
          "metadata": {},
          "output_type": "display_data"
        },
        {
          "data": {
            "image/png": "[encoded data removed]",
            "text/plain": [
              "<Figure size 640x480 with 1 Axes>"
            ]
          },
          "metadata": {},
          "output_type": "display_data"
        },
        {
          "data": {
            "image/png": "[encoded data removed]",
            "text/plain": [
              "<Figure size 640x480 with 1 Axes>"
            ]
          },
          "metadata": {},
          "output_type": "display_data"
        },
        {
          "data": {
            "image/png": "[encoded data removed]",
            "text/plain": [
              "<Figure size 640x480 with 1 Axes>"
            ]
          },
          "metadata": {},
          "output_type": "display_data"
        },
        {
          "data": {
            "image/png": "[encoded data removed]",
            "text/plain": [
              "<Figure size 640x480 with 1 Axes>"
            ]
          },
          "metadata": {},
          "output_type": "display_data"
        },
        {
          "data": {
            "image/png": "[encoded data removed]",
            "text/plain": [
              "<Figure size 640x480 with 1 Axes>"
            ]
          },
          "metadata": {},
          "output_type": "display_data"
        },
        {
          "data": {
            "image/png": "[encoded data removed]",
            "text/plain": [
              "<Figure size 640x480 with 1 Axes>"
            ]
          },
          "metadata": {},
          "output_type": "display_data"
        },
        {
          "data": {
            "image/png": "[encoded data removed]",
            "text/plain": [
              "<Figure size 640x480 with 1 Axes>"
            ]
          },
          "metadata": {},
          "output_type": "display_data"
        },
        {
          "data": {
            "image/png": "[encoded data removed]",
            "text/plain": [
              "<Figure size 640x480 with 1 Axes>"
            ]
          },
          "metadata": {},
          "output_type": "display_data"
        },
        {
          "data": {
            "image/png": "[encoded data removed]",
            "text/plain": [
              "<Figure size 640x480 with 1 Axes>"
            ]
          },
          "metadata": {},
          "output_type": "display_data"
        },
        {
          "data": {
            "image/png": "[encoded data removed]",
            "text/plain": [
              "<Figure size 640x480 with 1 Axes>"
            ]
          },
          "metadata": {},
          "output_type": "display_data"
        }
      ],
      "source": [
        "for column in Data.columns:\n",
        "    fig, ax = plt.subplots()\n",
        "    ax.boxplot(Data[column])\n",
        "    ax.set_title(column)\n",
        "    plt.show()"
      ]
    },
    {
      "cell_type": "code",
      "execution_count": null,
      "metadata": {
        "id": "F1TvQI6YO1xy"
      },
      "outputs": [],
      "source": []
    },
    {
      "cell_type": "code",
      "execution_count": null,
      "metadata": {
        "id": "-3hFJ-U4O1xz"
      },
      "outputs": [],
      "source": []
    },
    {
      "cell_type": "markdown",
      "metadata": {
        "id": "8DCy1Y2QYi6-"
      },
      "source": [
        "# Data preprocessing"
      ]
    },
    {
      "cell_type": "code",
      "execution_count": null,
      "metadata": {
        "id": "Jezdr2FsO1x0",
        "outputId": "14644e64-f925-4168-bb0f-c7352b537472"
      },
      "outputs": [
        {
          "name": "stdout",
          "output_type": "stream",
          "text": [
            "The following columns contain outliers: default, loan, poutcome\n"
          ]
        }
      ],
      "source": [
        "# Define a function to detect outliers for a given column\n",
        "def detect_outliers(data):\n",
        "    # Calculate the IQR\n",
        "    q1, q3 = np.percentile(data, [25, 75])\n",
        "    iqr = q3 - q1\n",
        "    \n",
        "    # Calculate the upper and lower bounds\n",
        "    upper_bound = q3 + 1.5 * iqr\n",
        "    lower_bound = q1 - 1.5 * iqr\n",
        "    \n",
        "    # Identify the outliers\n",
        "    outliers = [x for x in data if x < lower_bound or x > upper_bound]\n",
        "    \n",
        "    # Return True if outliers are present, False otherwise\n",
        "    return bool(outliers)\n",
        "\n",
        "# Detect outliers for each column in the dataset\n",
        "outlier_columns = []\n",
        "for column in Data.columns:\n",
        "    if detect_outliers(Data[column].values):\n",
        "        outlier_columns.append(column)\n",
        "\n",
        "# Print the names of the columns that contain outliers\n",
        "if outlier_columns:\n",
        "    print(f\"The following columns contain outliers: {', '.join(outlier_columns)}\")\n",
        "else:\n",
        "    print(\"No outliers detected in any column.\")"
      ]
    },
    {
      "cell_type": "code",
      "execution_count": null,
      "metadata": {
        "id": "e_0Bhmc-O1x2"
      },
      "outputs": [],
      "source": [
        "# Remove outliers for each column that contains them\n",
        "for column in outlier_columns:\n",
        "    # Calculate the IQR\n",
        "    q1, q3 = np.percentile(Data[column], [25, 75])\n",
        "    iqr = q3 - q1\n",
        "    \n",
        "    # Calculate the upper and lower bounds\n",
        "    upper_bound = q3 + 1.5 * iqr\n",
        "    lower_bound = q1 - 1.5 * iqr\n",
        "    \n",
        "    # Replace outliers with NaN\n",
        "    Data.loc[(Data[column] < lower_bound) | (Data[column] > upper_bound), column] = np.nan\n",
        "    "
      ]
    },
    {
      "cell_type": "code",
      "execution_count": null,
      "metadata": {
        "id": "MC5k66FTO1x3"
      },
      "outputs": [],
      "source": [
        "# Impute missing values using KNN imputer\n",
        "imputer = KNNImputer(n_neighbors=5, weights='distance')\n",
        "Data = pd.DataFrame(imputer.fit_transform(Data), columns=Data.columns)"
      ]
    },
    {
      "cell_type": "code",
      "execution_count": null,
      "metadata": {
        "id": "SIuU9F1EO1x5",
        "outputId": "d4ea1e08-327a-414a-88ab-083bea4b7533"
      },
      "outputs": [
        {
          "data": {
            "text/html": [
              "<div>\n",
              "<style scoped>\n",
              "    .dataframe tbody tr th:only-of-type {\n",
              "        vertical-align: middle;\n",
              "    }\n",
              "\n",
              "    .dataframe tbody tr th {\n",
              "        vertical-align: top;\n",
              "    }\n",
              "\n",
              "    .dataframe thead th {\n",
              "        text-align: right;\n",
              "    }\n",
              "</style>\n",
              "<table border=\"1\" class=\"dataframe\">\n",
              "  <thead>\n",
              "    <tr style=\"text-align: right;\">\n",
              "      <th></th>\n",
              "      <th>age</th>\n",
              "      <th>job</th>\n",
              "      <th>marital</th>\n",
              "      <th>education</th>\n",
              "      <th>default</th>\n",
              "      <th>housing</th>\n",
              "      <th>loan</th>\n",
              "      <th>contact</th>\n",
              "      <th>month</th>\n",
              "      <th>day_of_week</th>\n",
              "      <th>duration</th>\n",
              "      <th>campaign</th>\n",
              "      <th>poutcome</th>\n",
              "    </tr>\n",
              "  </thead>\n",
              "  <tbody>\n",
              "    <tr>\n",
              "      <th>count</th>\n",
              "      <td>32950.000000</td>\n",
              "      <td>32950.000000</td>\n",
              "      <td>32950.000000</td>\n",
              "      <td>32950.000000</td>\n",
              "      <td>32950.0</td>\n",
              "      <td>32950.000000</td>\n",
              "      <td>32950.0</td>\n",
              "      <td>32950.000000</td>\n",
              "      <td>32950.000000</td>\n",
              "      <td>32950.000000</td>\n",
              "      <td>32950.000000</td>\n",
              "      <td>32950.000000</td>\n",
              "      <td>32950.0</td>\n",
              "    </tr>\n",
              "    <tr>\n",
              "      <th>mean</th>\n",
              "      <td>39.605584</td>\n",
              "      <td>3.634901</td>\n",
              "      <td>1.169408</td>\n",
              "      <td>3.706434</td>\n",
              "      <td>0.0</td>\n",
              "      <td>0.547800</td>\n",
              "      <td>0.0</td>\n",
              "      <td>0.365463</td>\n",
              "      <td>4.233414</td>\n",
              "      <td>2.000546</td>\n",
              "      <td>227.795357</td>\n",
              "      <td>2.189469</td>\n",
              "      <td>1.0</td>\n",
              "    </tr>\n",
              "    <tr>\n",
              "      <th>std</th>\n",
              "      <td>9.079007</td>\n",
              "      <td>3.548829</td>\n",
              "      <td>0.603146</td>\n",
              "      <td>2.081246</td>\n",
              "      <td>0.0</td>\n",
              "      <td>0.497717</td>\n",
              "      <td>0.0</td>\n",
              "      <td>0.481567</td>\n",
              "      <td>2.319693</td>\n",
              "      <td>1.400260</td>\n",
              "      <td>158.757258</td>\n",
              "      <td>1.362850</td>\n",
              "      <td>0.0</td>\n",
              "    </tr>\n",
              "    <tr>\n",
              "      <th>min</th>\n",
              "      <td>26.000000</td>\n",
              "      <td>0.000000</td>\n",
              "      <td>0.000000</td>\n",
              "      <td>0.000000</td>\n",
              "      <td>0.0</td>\n",
              "      <td>0.000000</td>\n",
              "      <td>0.0</td>\n",
              "      <td>0.000000</td>\n",
              "      <td>0.000000</td>\n",
              "      <td>0.000000</td>\n",
              "      <td>36.000000</td>\n",
              "      <td>1.000000</td>\n",
              "      <td>1.0</td>\n",
              "    </tr>\n",
              "    <tr>\n",
              "      <th>25%</th>\n",
              "      <td>32.000000</td>\n",
              "      <td>0.000000</td>\n",
              "      <td>1.000000</td>\n",
              "      <td>2.000000</td>\n",
              "      <td>0.0</td>\n",
              "      <td>0.000000</td>\n",
              "      <td>0.0</td>\n",
              "      <td>0.000000</td>\n",
              "      <td>3.000000</td>\n",
              "      <td>1.000000</td>\n",
              "      <td>103.000000</td>\n",
              "      <td>1.000000</td>\n",
              "      <td>1.0</td>\n",
              "    </tr>\n",
              "    <tr>\n",
              "      <th>50%</th>\n",
              "      <td>38.000000</td>\n",
              "      <td>2.000000</td>\n",
              "      <td>1.000000</td>\n",
              "      <td>3.000000</td>\n",
              "      <td>0.0</td>\n",
              "      <td>1.000000</td>\n",
              "      <td>0.0</td>\n",
              "      <td>0.000000</td>\n",
              "      <td>4.000000</td>\n",
              "      <td>2.000000</td>\n",
              "      <td>180.000000</td>\n",
              "      <td>2.000000</td>\n",
              "      <td>1.0</td>\n",
              "    </tr>\n",
              "    <tr>\n",
              "      <th>75%</th>\n",
              "      <td>47.000000</td>\n",
              "      <td>7.000000</td>\n",
              "      <td>2.000000</td>\n",
              "      <td>6.000000</td>\n",
              "      <td>0.0</td>\n",
              "      <td>1.000000</td>\n",
              "      <td>0.0</td>\n",
              "      <td>1.000000</td>\n",
              "      <td>6.000000</td>\n",
              "      <td>3.000000</td>\n",
              "      <td>319.000000</td>\n",
              "      <td>3.000000</td>\n",
              "      <td>1.0</td>\n",
              "    </tr>\n",
              "    <tr>\n",
              "      <th>max</th>\n",
              "      <td>55.000000</td>\n",
              "      <td>10.000000</td>\n",
              "      <td>2.000000</td>\n",
              "      <td>6.000000</td>\n",
              "      <td>0.0</td>\n",
              "      <td>1.000000</td>\n",
              "      <td>0.0</td>\n",
              "      <td>1.000000</td>\n",
              "      <td>9.000000</td>\n",
              "      <td>4.000000</td>\n",
              "      <td>550.000000</td>\n",
              "      <td>5.000000</td>\n",
              "      <td>1.0</td>\n",
              "    </tr>\n",
              "  </tbody>\n",
              "</table>\n",
              "</div>"
            ],
            "text/plain": [
              "                age           job       marital     education  default  \\\n",
              "count  32950.000000  32950.000000  32950.000000  32950.000000  32950.0   \n",
              "mean      39.605584      3.634901      1.169408      3.706434      0.0   \n",
              "std        9.079007      3.548829      0.603146      2.081246      0.0   \n",
              "min       26.000000      0.000000      0.000000      0.000000      0.0   \n",
              "25%       32.000000      0.000000      1.000000      2.000000      0.0   \n",
              "50%       38.000000      2.000000      1.000000      3.000000      0.0   \n",
              "75%       47.000000      7.000000      2.000000      6.000000      0.0   \n",
              "max       55.000000     10.000000      2.000000      6.000000      0.0   \n",
              "\n",
              "            housing     loan       contact         month   day_of_week  \\\n",
              "count  32950.000000  32950.0  32950.000000  32950.000000  32950.000000   \n",
              "mean       0.547800      0.0      0.365463      4.233414      2.000546   \n",
              "std        0.497717      0.0      0.481567      2.319693      1.400260   \n",
              "min        0.000000      0.0      0.000000      0.000000      0.000000   \n",
              "25%        0.000000      0.0      0.000000      3.000000      1.000000   \n",
              "50%        1.000000      0.0      0.000000      4.000000      2.000000   \n",
              "75%        1.000000      0.0      1.000000      6.000000      3.000000   \n",
              "max        1.000000      0.0      1.000000      9.000000      4.000000   \n",
              "\n",
              "           duration      campaign  poutcome  \n",
              "count  32950.000000  32950.000000   32950.0  \n",
              "mean     227.795357      2.189469       1.0  \n",
              "std      158.757258      1.362850       0.0  \n",
              "min       36.000000      1.000000       1.0  \n",
              "25%      103.000000      1.000000       1.0  \n",
              "50%      180.000000      2.000000       1.0  \n",
              "75%      319.000000      3.000000       1.0  \n",
              "max      550.000000      5.000000       1.0  "
            ]
          },
          "execution_count": 105,
          "metadata": {},
          "output_type": "execute_result"
        }
      ],
      "source": [
        "Data.describe()"
      ]
    },
    {
      "cell_type": "code",
      "execution_count": null,
      "metadata": {
        "id": "RmXxOkBuO1x6",
        "outputId": "59f1291f-6646-4c51-b9c6-2060c47b8e00"
      },
      "outputs": [
        {
          "name": "stdout",
          "output_type": "stream",
          "text": [
            "<class 'pandas.core.frame.DataFrame'>\n",
            "RangeIndex: 32950 entries, 0 to 32949\n",
            "Data columns (total 13 columns):\n",
            " #   Column       Non-Null Count  Dtype  \n",
            "---  ------       --------------  -----  \n",
            " 0   age          32950 non-null  float64\n",
            " 1   job          32950 non-null  float64\n",
            " 2   marital      32950 non-null  float64\n",
            " 3   education    32950 non-null  float64\n",
            " 4   default      32950 non-null  float64\n",
            " 5   housing      32950 non-null  float64\n",
            " 6   loan         32950 non-null  float64\n",
            " 7   contact      32950 non-null  float64\n",
            " 8   month        32950 non-null  float64\n",
            " 9   day_of_week  32950 non-null  float64\n",
            " 10  duration     32950 non-null  float64\n",
            " 11  campaign     32950 non-null  float64\n",
            " 12  poutcome     32950 non-null  float64\n",
            "dtypes: float64(13)\n",
            "memory usage: 3.3 MB\n"
          ]
        }
      ],
      "source": [
        "Data.info()"
      ]
    },
    {
      "cell_type": "code",
      "execution_count": null,
      "metadata": {
        "id": "sU9IOs0IO1x7",
        "outputId": "b0448fb0-3dee-4977-e79d-944121b67a98"
      },
      "outputs": [
        {
          "data": {
            "text/plain": [
              "(32950, 13)"
            ]
          },
          "execution_count": 107,
          "metadata": {},
          "output_type": "execute_result"
        }
      ],
      "source": [
        "Data.shape"
      ]
    },
    {
      "cell_type": "code",
      "execution_count": null,
      "metadata": {
        "id": "EwD9Z8-oWSPi"
      },
      "outputs": [],
      "source": [
        "# Data = Data.drop_duplicates()"
      ]
    },
    {
      "cell_type": "code",
      "execution_count": null,
      "metadata": {
        "id": "0nL9uYSYIZYC"
      },
      "outputs": [],
      "source": [
        "# Data = Data.dropna()"
      ]
    },
    {
      "cell_type": "code",
      "execution_count": null,
      "metadata": {
        "id": "Wccb4ge9Irtw"
      },
      "outputs": [],
      "source": [
        "Data = pd.get_dummies(Data, columns=[\"education\", \"marital\", \"contact\", \"month\", \"day_of_week\", \"poutcome\"])"
      ]
    },
    {
      "cell_type": "code",
      "execution_count": null,
      "metadata": {
        "colab": {
          "base_uri": "https://localhost:8080/",
          "height": 488
        },
        "id": "eG4jGQ4hMqy5",
        "outputId": "bbc4620b-fc3f-41a8-cc5e-ee7d3d31be23"
      },
      "outputs": [
        {
          "data": {
            "text/html": [
              "<div>\n",
              "<style scoped>\n",
              "    .dataframe tbody tr th:only-of-type {\n",
              "        vertical-align: middle;\n",
              "    }\n",
              "\n",
              "    .dataframe tbody tr th {\n",
              "        vertical-align: top;\n",
              "    }\n",
              "\n",
              "    .dataframe thead th {\n",
              "        text-align: right;\n",
              "    }\n",
              "</style>\n",
              "<table border=\"1\" class=\"dataframe\">\n",
              "  <thead>\n",
              "    <tr style=\"text-align: right;\">\n",
              "      <th></th>\n",
              "      <th>age</th>\n",
              "      <th>job</th>\n",
              "      <th>default</th>\n",
              "      <th>housing</th>\n",
              "      <th>loan</th>\n",
              "      <th>duration</th>\n",
              "      <th>campaign</th>\n",
              "      <th>education_0.0</th>\n",
              "      <th>education_1.0</th>\n",
              "      <th>education_2.0</th>\n",
              "      <th>...</th>\n",
              "      <th>month_6.0</th>\n",
              "      <th>month_7.0</th>\n",
              "      <th>month_8.0</th>\n",
              "      <th>month_9.0</th>\n",
              "      <th>day_of_week_0.0</th>\n",
              "      <th>day_of_week_1.0</th>\n",
              "      <th>day_of_week_2.0</th>\n",
              "      <th>day_of_week_3.0</th>\n",
              "      <th>day_of_week_4.0</th>\n",
              "      <th>poutcome_1.0</th>\n",
              "    </tr>\n",
              "  </thead>\n",
              "  <tbody>\n",
              "    <tr>\n",
              "      <th>0</th>\n",
              "      <td>49.0</td>\n",
              "      <td>1.0</td>\n",
              "      <td>0.0</td>\n",
              "      <td>0.0</td>\n",
              "      <td>0.0</td>\n",
              "      <td>227.0</td>\n",
              "      <td>4.0</td>\n",
              "      <td>0</td>\n",
              "      <td>0</td>\n",
              "      <td>1</td>\n",
              "      <td>...</td>\n",
              "      <td>0</td>\n",
              "      <td>1</td>\n",
              "      <td>0</td>\n",
              "      <td>0</td>\n",
              "      <td>0</td>\n",
              "      <td>0</td>\n",
              "      <td>0</td>\n",
              "      <td>0</td>\n",
              "      <td>1</td>\n",
              "      <td>1</td>\n",
              "    </tr>\n",
              "    <tr>\n",
              "      <th>1</th>\n",
              "      <td>37.0</td>\n",
              "      <td>2.0</td>\n",
              "      <td>0.0</td>\n",
              "      <td>0.0</td>\n",
              "      <td>0.0</td>\n",
              "      <td>202.0</td>\n",
              "      <td>2.0</td>\n",
              "      <td>0</td>\n",
              "      <td>0</td>\n",
              "      <td>0</td>\n",
              "      <td>...</td>\n",
              "      <td>0</td>\n",
              "      <td>1</td>\n",
              "      <td>0</td>\n",
              "      <td>0</td>\n",
              "      <td>0</td>\n",
              "      <td>0</td>\n",
              "      <td>0</td>\n",
              "      <td>0</td>\n",
              "      <td>1</td>\n",
              "      <td>1</td>\n",
              "    </tr>\n",
              "    <tr>\n",
              "      <th>2</th>\n",
              "      <td>55.0</td>\n",
              "      <td>5.0</td>\n",
              "      <td>0.0</td>\n",
              "      <td>0.0</td>\n",
              "      <td>0.0</td>\n",
              "      <td>550.0</td>\n",
              "      <td>1.0</td>\n",
              "      <td>1</td>\n",
              "      <td>0</td>\n",
              "      <td>0</td>\n",
              "      <td>...</td>\n",
              "      <td>0</td>\n",
              "      <td>0</td>\n",
              "      <td>0</td>\n",
              "      <td>0</td>\n",
              "      <td>0</td>\n",
              "      <td>1</td>\n",
              "      <td>0</td>\n",
              "      <td>0</td>\n",
              "      <td>0</td>\n",
              "      <td>1</td>\n",
              "    </tr>\n",
              "    <tr>\n",
              "      <th>3</th>\n",
              "      <td>36.0</td>\n",
              "      <td>0.0</td>\n",
              "      <td>0.0</td>\n",
              "      <td>1.0</td>\n",
              "      <td>0.0</td>\n",
              "      <td>120.0</td>\n",
              "      <td>2.0</td>\n",
              "      <td>0</td>\n",
              "      <td>0</td>\n",
              "      <td>0</td>\n",
              "      <td>...</td>\n",
              "      <td>1</td>\n",
              "      <td>0</td>\n",
              "      <td>0</td>\n",
              "      <td>0</td>\n",
              "      <td>0</td>\n",
              "      <td>1</td>\n",
              "      <td>0</td>\n",
              "      <td>0</td>\n",
              "      <td>0</td>\n",
              "      <td>1</td>\n",
              "    </tr>\n",
              "    <tr>\n",
              "      <th>4</th>\n",
              "      <td>55.0</td>\n",
              "      <td>5.0</td>\n",
              "      <td>0.0</td>\n",
              "      <td>0.0</td>\n",
              "      <td>0.0</td>\n",
              "      <td>368.0</td>\n",
              "      <td>2.0</td>\n",
              "      <td>0</td>\n",
              "      <td>0</td>\n",
              "      <td>0</td>\n",
              "      <td>...</td>\n",
              "      <td>0</td>\n",
              "      <td>0</td>\n",
              "      <td>0</td>\n",
              "      <td>0</td>\n",
              "      <td>0</td>\n",
              "      <td>0</td>\n",
              "      <td>0</td>\n",
              "      <td>1</td>\n",
              "      <td>0</td>\n",
              "      <td>1</td>\n",
              "    </tr>\n",
              "    <tr>\n",
              "      <th>...</th>\n",
              "      <td>...</td>\n",
              "      <td>...</td>\n",
              "      <td>...</td>\n",
              "      <td>...</td>\n",
              "      <td>...</td>\n",
              "      <td>...</td>\n",
              "      <td>...</td>\n",
              "      <td>...</td>\n",
              "      <td>...</td>\n",
              "      <td>...</td>\n",
              "      <td>...</td>\n",
              "      <td>...</td>\n",
              "      <td>...</td>\n",
              "      <td>...</td>\n",
              "      <td>...</td>\n",
              "      <td>...</td>\n",
              "      <td>...</td>\n",
              "      <td>...</td>\n",
              "      <td>...</td>\n",
              "      <td>...</td>\n",
              "      <td>...</td>\n",
              "    </tr>\n",
              "    <tr>\n",
              "      <th>32945</th>\n",
              "      <td>28.0</td>\n",
              "      <td>7.0</td>\n",
              "      <td>0.0</td>\n",
              "      <td>1.0</td>\n",
              "      <td>0.0</td>\n",
              "      <td>192.0</td>\n",
              "      <td>1.0</td>\n",
              "      <td>0</td>\n",
              "      <td>0</td>\n",
              "      <td>0</td>\n",
              "      <td>...</td>\n",
              "      <td>0</td>\n",
              "      <td>0</td>\n",
              "      <td>0</td>\n",
              "      <td>0</td>\n",
              "      <td>0</td>\n",
              "      <td>0</td>\n",
              "      <td>0</td>\n",
              "      <td>1</td>\n",
              "      <td>0</td>\n",
              "      <td>1</td>\n",
              "    </tr>\n",
              "    <tr>\n",
              "      <th>32946</th>\n",
              "      <td>52.0</td>\n",
              "      <td>9.0</td>\n",
              "      <td>0.0</td>\n",
              "      <td>1.0</td>\n",
              "      <td>0.0</td>\n",
              "      <td>64.0</td>\n",
              "      <td>1.0</td>\n",
              "      <td>0</td>\n",
              "      <td>0</td>\n",
              "      <td>0</td>\n",
              "      <td>...</td>\n",
              "      <td>0</td>\n",
              "      <td>1</td>\n",
              "      <td>0</td>\n",
              "      <td>0</td>\n",
              "      <td>1</td>\n",
              "      <td>0</td>\n",
              "      <td>0</td>\n",
              "      <td>0</td>\n",
              "      <td>0</td>\n",
              "      <td>1</td>\n",
              "    </tr>\n",
              "    <tr>\n",
              "      <th>32947</th>\n",
              "      <td>54.0</td>\n",
              "      <td>0.0</td>\n",
              "      <td>0.0</td>\n",
              "      <td>0.0</td>\n",
              "      <td>0.0</td>\n",
              "      <td>131.0</td>\n",
              "      <td>4.0</td>\n",
              "      <td>0</td>\n",
              "      <td>0</td>\n",
              "      <td>1</td>\n",
              "      <td>...</td>\n",
              "      <td>0</td>\n",
              "      <td>0</td>\n",
              "      <td>0</td>\n",
              "      <td>0</td>\n",
              "      <td>0</td>\n",
              "      <td>1</td>\n",
              "      <td>0</td>\n",
              "      <td>0</td>\n",
              "      <td>0</td>\n",
              "      <td>1</td>\n",
              "    </tr>\n",
              "    <tr>\n",
              "      <th>32948</th>\n",
              "      <td>29.0</td>\n",
              "      <td>0.0</td>\n",
              "      <td>0.0</td>\n",
              "      <td>0.0</td>\n",
              "      <td>0.0</td>\n",
              "      <td>165.0</td>\n",
              "      <td>1.0</td>\n",
              "      <td>0</td>\n",
              "      <td>0</td>\n",
              "      <td>0</td>\n",
              "      <td>...</td>\n",
              "      <td>1</td>\n",
              "      <td>0</td>\n",
              "      <td>0</td>\n",
              "      <td>0</td>\n",
              "      <td>1</td>\n",
              "      <td>0</td>\n",
              "      <td>0</td>\n",
              "      <td>0</td>\n",
              "      <td>0</td>\n",
              "      <td>1</td>\n",
              "    </tr>\n",
              "    <tr>\n",
              "      <th>32949</th>\n",
              "      <td>35.0</td>\n",
              "      <td>0.0</td>\n",
              "      <td>0.0</td>\n",
              "      <td>0.0</td>\n",
              "      <td>0.0</td>\n",
              "      <td>544.0</td>\n",
              "      <td>3.0</td>\n",
              "      <td>0</td>\n",
              "      <td>0</td>\n",
              "      <td>0</td>\n",
              "      <td>...</td>\n",
              "      <td>0</td>\n",
              "      <td>0</td>\n",
              "      <td>0</td>\n",
              "      <td>0</td>\n",
              "      <td>0</td>\n",
              "      <td>0</td>\n",
              "      <td>0</td>\n",
              "      <td>1</td>\n",
              "      <td>0</td>\n",
              "      <td>1</td>\n",
              "    </tr>\n",
              "  </tbody>\n",
              "</table>\n",
              "<p>32950 rows × 35 columns</p>\n",
              "</div>"
            ],
            "text/plain": [
              "        age  job  default  housing  loan  duration  campaign  education_0.0  \\\n",
              "0      49.0  1.0      0.0      0.0   0.0     227.0       4.0              0   \n",
              "1      37.0  2.0      0.0      0.0   0.0     202.0       2.0              0   \n",
              "2      55.0  5.0      0.0      0.0   0.0     550.0       1.0              1   \n",
              "3      36.0  0.0      0.0      1.0   0.0     120.0       2.0              0   \n",
              "4      55.0  5.0      0.0      0.0   0.0     368.0       2.0              0   \n",
              "...     ...  ...      ...      ...   ...       ...       ...            ...   \n",
              "32945  28.0  7.0      0.0      1.0   0.0     192.0       1.0              0   \n",
              "32946  52.0  9.0      0.0      1.0   0.0      64.0       1.0              0   \n",
              "32947  54.0  0.0      0.0      0.0   0.0     131.0       4.0              0   \n",
              "32948  29.0  0.0      0.0      0.0   0.0     165.0       1.0              0   \n",
              "32949  35.0  0.0      0.0      0.0   0.0     544.0       3.0              0   \n",
              "\n",
              "       education_1.0  education_2.0  ...  month_6.0  month_7.0  month_8.0  \\\n",
              "0                  0              1  ...          0          1          0   \n",
              "1                  0              0  ...          0          1          0   \n",
              "2                  0              0  ...          0          0          0   \n",
              "3                  0              0  ...          1          0          0   \n",
              "4                  0              0  ...          0          0          0   \n",
              "...              ...            ...  ...        ...        ...        ...   \n",
              "32945              0              0  ...          0          0          0   \n",
              "32946              0              0  ...          0          1          0   \n",
              "32947              0              1  ...          0          0          0   \n",
              "32948              0              0  ...          1          0          0   \n",
              "32949              0              0  ...          0          0          0   \n",
              "\n",
              "       month_9.0  day_of_week_0.0  day_of_week_1.0  day_of_week_2.0  \\\n",
              "0              0                0                0                0   \n",
              "1              0                0                0                0   \n",
              "2              0                0                1                0   \n",
              "3              0                0                1                0   \n",
              "4              0                0                0                0   \n",
              "...          ...              ...              ...              ...   \n",
              "32945          0                0                0                0   \n",
              "32946          0                1                0                0   \n",
              "32947          0                0                1                0   \n",
              "32948          0                1                0                0   \n",
              "32949          0                0                0                0   \n",
              "\n",
              "       day_of_week_3.0  day_of_week_4.0  poutcome_1.0  \n",
              "0                    0                1             1  \n",
              "1                    0                1             1  \n",
              "2                    0                0             1  \n",
              "3                    0                0             1  \n",
              "4                    1                0             1  \n",
              "...                ...              ...           ...  \n",
              "32945                1                0             1  \n",
              "32946                0                0             1  \n",
              "32947                0                0             1  \n",
              "32948                0                0             1  \n",
              "32949                1                0             1  \n",
              "\n",
              "[32950 rows x 35 columns]"
            ]
          },
          "execution_count": 111,
          "metadata": {},
          "output_type": "execute_result"
        }
      ],
      "source": [
        "Data"
      ]
    },
    {
      "cell_type": "code",
      "execution_count": null,
      "metadata": {
        "id": "vLleKTmkO1x-"
      },
      "outputs": [],
      "source": []
    },
    {
      "cell_type": "code",
      "execution_count": null,
      "metadata": {
        "id": "xENHIHtRO1x_"
      },
      "outputs": [],
      "source": []
    },
    {
      "cell_type": "markdown",
      "metadata": {
        "id": "6f6xFDAJJWPW"
      },
      "source": [
        "# Feature engineering"
      ]
    },
    {
      "cell_type": "code",
      "execution_count": null,
      "metadata": {
        "colab": {
          "base_uri": "https://localhost:8080/"
        },
        "id": "8m38bhJIRwrI",
        "outputId": "aef0d12d-4ca3-4dfd-96ce-671bb25ace16"
      },
      "outputs": [
        {
          "data": {
            "text/plain": [
              "Index(['age', 'job', 'default', 'housing', 'loan', 'duration', 'campaign',\n",
              "       'education_0.0', 'education_1.0', 'education_2.0', 'education_3.0',\n",
              "       'education_4.0', 'education_5.0', 'education_6.0', 'marital_0.0',\n",
              "       'marital_1.0', 'marital_2.0', 'contact_0.0', 'contact_1.0', 'month_0.0',\n",
              "       'month_1.0', 'month_2.0', 'month_3.0', 'month_4.0', 'month_5.0',\n",
              "       'month_6.0', 'month_7.0', 'month_8.0', 'month_9.0', 'day_of_week_0.0',\n",
              "       'day_of_week_1.0', 'day_of_week_2.0', 'day_of_week_3.0',\n",
              "       'day_of_week_4.0', 'poutcome_1.0'],\n",
              "      dtype='object')"
            ]
          },
          "execution_count": 112,
          "metadata": {},
          "output_type": "execute_result"
        }
      ],
      "source": [
        "Data.columns"
      ]
    },
    {
      "cell_type": "code",
      "execution_count": null,
      "metadata": {
        "id": "yjGTfatZSgpo"
      },
      "outputs": [],
      "source": [
        "import seaborn as sns\n",
        "import matplotlib.pyplot as plt\n"
      ]
    },
    {
      "cell_type": "code",
      "execution_count": null,
      "metadata": {
        "id": "wTu9OHAIJJuq"
      },
      "outputs": [],
      "source": [
        "X = Data"
      ]
    },
    {
      "cell_type": "code",
      "execution_count": null,
      "metadata": {
        "id": "F4orju-ZnWag"
      },
      "outputs": [],
      "source": [
        "y = y"
      ]
    },
    {
      "cell_type": "code",
      "execution_count": null,
      "metadata": {
        "id": "HTHi3kGroaNk"
      },
      "outputs": [],
      "source": [
        "from sklearn.model_selection import train_test_split"
      ]
    },
    {
      "cell_type": "code",
      "execution_count": null,
      "metadata": {
        "id": "yjkILcyfod-c"
      },
      "outputs": [],
      "source": [
        "X_train, X_test, y_train, y_test = train_test_split(X, y, test_size=0.2, random_state=42)"
      ]
    },
    {
      "cell_type": "markdown",
      "metadata": {
        "id": "xAqCx_G0O1yD"
      },
      "source": [
        "# Use standardization for feature scaling"
      ]
    },
    {
      "cell_type": "code",
      "execution_count": null,
      "metadata": {
        "id": "bykKaLeIO1yE"
      },
      "outputs": [],
      "source": [
        "from sklearn.preprocessing import StandardScaler"
      ]
    },
    {
      "cell_type": "code",
      "execution_count": null,
      "metadata": {
        "id": "tLHnsPRMO1yF"
      },
      "outputs": [],
      "source": [
        "sc=StandardScaler()"
      ]
    },
    {
      "cell_type": "code",
      "execution_count": null,
      "metadata": {
        "id": "iuiJqKCjO1yG"
      },
      "outputs": [],
      "source": [
        "X_train=sc.fit_transform(X_train)"
      ]
    },
    {
      "cell_type": "code",
      "execution_count": null,
      "metadata": {
        "id": "UAqtCHPKO1yG"
      },
      "outputs": [],
      "source": [
        "X_test=sc.transform(X_test)"
      ]
    },
    {
      "cell_type": "markdown",
      "metadata": {
        "id": "OB1nhLyao_h7"
      },
      "source": [
        "# Model selection"
      ]
    },
    {
      "cell_type": "code",
      "execution_count": null,
      "metadata": {
        "id": "1Tl-JC9EowOg"
      },
      "outputs": [],
      "source": [
        "from sklearn.linear_model import LogisticRegression"
      ]
    },
    {
      "cell_type": "code",
      "execution_count": null,
      "metadata": {
        "id": "65r2JgZypOXo"
      },
      "outputs": [],
      "source": [
        "model = LogisticRegression(max_iter=1000)"
      ]
    },
    {
      "cell_type": "code",
      "execution_count": null,
      "metadata": {
        "id": "nDaGFO6DO1yH"
      },
      "outputs": [],
      "source": [
        "auc_score = roc_auc_score(y_test, y_pred)"
      ]
    },
    {
      "cell_type": "code",
      "execution_count": null,
      "metadata": {
        "id": "pRk1nnfGO1yI",
        "outputId": "ad194200-f25a-4ea2-acab-d164b3be0454"
      },
      "outputs": [
        {
          "name": "stdout",
          "output_type": "stream",
          "text": [
            "ROC-AUC Score: 0.6347022745565346\n"
          ]
        }
      ],
      "source": [
        "print(\"ROC-AUC Score:\", auc_score)"
      ]
    },
    {
      "cell_type": "markdown",
      "metadata": {
        "id": "be-LRn2fO1yI"
      },
      "source": [
        "# ROC-AUC Score with hypermeter "
      ]
    },
    {
      "cell_type": "code",
      "execution_count": null,
      "metadata": {
        "id": "Wj6kl2A4O1yJ",
        "outputId": "c0981221-c458-4125-d125-7d9248ca1b36"
      },
      "outputs": [
        {
          "name": "stdout",
          "output_type": "stream",
          "text": [
            "Cross-validation scores: [0.8846187  0.88579775 0.88110675 0.90273311 0.86943164]\n",
            "Mean ROC-AUC: 0.885\n"
          ]
        }
      ],
      "source": [
        "scores = cross_val_score(model, X_train, y_train, cv=5, scoring=\"roc_auc\")\n",
        "print(f\"Cross-validation scores: {scores}\")\n",
        "print(f\"Mean ROC-AUC: {np.mean(scores):.3f}\")"
      ]
    },
    {
      "cell_type": "code",
      "execution_count": null,
      "metadata": {
        "id": "17lXu6l8O1yK",
        "outputId": "560fb1bb-c886-43b8-c5ac-e33860b54a60"
      },
      "outputs": [
        {
          "data": {
            "image/png": "[encoded data removed]",
            "text/plain": [
              "<Figure size 640x480 with 1 Axes>"
            ]
          },
          "metadata": {},
          "output_type": "display_data"
        }
      ],
      "source": [
        "from sklearn.metrics import roc_curve, auc\n",
        "from sklearn.model_selection import cross_val_predict\n",
        "\n",
        "# Generate predicted probabilities using cross-validation\n",
        "y_pred_proba = cross_val_predict(model, X_train, y_train, cv=5, method='predict_proba')\n",
        "\n",
        "# Compute the false positive rate, true positive rate, and threshold\n",
        "fpr, tpr, threshold = roc_curve(y_train, y_pred_proba[:, 1])\n",
        "\n",
        "# Compute the AUC score\n",
        "roc_auc = auc(fpr, tpr)\n",
        "\n",
        "# Plot the ROC curve\n",
        "plt.plot(fpr, tpr, label=f'AUC = {roc_auc:.2f}')\n",
        "\n",
        "# Plot the diagonal line (random guessing)\n",
        "plt.plot([0, 1], [0, 1], 'r--')\n",
        "\n",
        "# Set the x- and y-axis labels\n",
        "plt.xlabel('False Positive Rate')\n",
        "plt.ylabel('True Positive Rate')\n",
        "\n",
        "# Set the title of the plot\n",
        "plt.title('Receiver Operating Characteristic (ROC) Curve')\n",
        "\n",
        "# Set the legend of the plot\n",
        "plt.legend(loc='lower right')\n",
        "\n",
        "# Show the plot\n",
        "plt.show()"
      ]
    },
    {
      "cell_type": "markdown",
      "metadata": {
        "id": "_h1iPPjOO1yL"
      },
      "source": [
        "# Find out the accuracy"
      ]
    },
    {
      "cell_type": "code",
      "execution_count": null,
      "metadata": {
        "id": "45MIBoXkO1yM",
        "outputId": "8c814c2c-a288-421c-98a1-bcadd3db9597"
      },
      "outputs": [
        {
          "data": {
            "text/plain": [
              "0.8895295902883156"
            ]
          },
          "execution_count": 131,
          "metadata": {},
          "output_type": "execute_result"
        }
      ],
      "source": [
        "threshold = 0.5\n",
        "# Convert predicted probabilities to binary values\n",
        "y_pred_binary = np.where(y_pred >= threshold, 1, 0)\n",
        "accuracy_score(y_test, y_pred_binary)"
      ]
    },
    {
      "cell_type": "markdown",
      "metadata": {
        "id": "N97WycdsO1yM"
      },
      "source": [
        "# Create the classification report and understand each term in it"
      ]
    },
    {
      "cell_type": "code",
      "execution_count": null,
      "metadata": {
        "id": "iv-vmQFmO1yN",
        "outputId": "cd87f490-1192-480a-f848-cdcbb22ab5d0"
      },
      "outputs": [
        {
          "name": "stdout",
          "output_type": "stream",
          "text": [
            "              precision    recall  f1-score   support\n",
            "\n",
            "           0       0.91      0.97      0.94      5798\n",
            "           1       0.58      0.30      0.39       792\n",
            "\n",
            "    accuracy                           0.89      6590\n",
            "   macro avg       0.74      0.63      0.67      6590\n",
            "weighted avg       0.87      0.89      0.87      6590\n",
            "\n"
          ]
        }
      ],
      "source": [
        "from sklearn.metrics import classification_report\n",
        "print(classification_report(y_test, y_pred_binary))"
      ]
    },
    {
      "cell_type": "markdown",
      "metadata": {
        "id": "znkVXhXEO1yO"
      },
      "source": [
        "# Compare roc_auc_score LogisticRegression with RandomForestClassifier"
      ]
    },
    {
      "cell_type": "code",
      "execution_count": null,
      "metadata": {
        "id": "2logWXqGO1yP"
      },
      "outputs": [],
      "source": [
        "# Importing the required libraries for modeling\n",
        "from sklearn.linear_model import LogisticRegression\n",
        "from sklearn.ensemble import RandomForestClassifier\n",
        "from sklearn.metrics import roc_auc_score\n",
        "\n",
        "# Creating a list of models to be trained\n",
        "models = []\n",
        "models.append(('Logistic Regression', LogisticRegression()))\n",
        "models.append(('Random Forest', RandomForestClassifier()))\n",
        "\n",
        "# Training the models and evaluating their performance\n",
        "results = []\n",
        "names = []\n",
        "for name, model in models:\n",
        "    model.fit(X_train, y_train)\n",
        "    y_pred = model.predict_proba(X_test)[:, 1]\n",
        "    auc = roc_auc_score(y_test, y_pred)\n",
        "    results.append(auc)\n",
        "    names.append(name)\n"
      ]
    },
    {
      "cell_type": "code",
      "execution_count": null,
      "metadata": {
        "id": "AAAP_MblO1yR",
        "outputId": "b9adc6ba-7f8a-441d-c3cf-0b68ce4a5b57"
      },
      "outputs": [
        {
          "name": "stdout",
          "output_type": "stream",
          "text": [
            "Logistic Regression : 0.8716673678837356\n",
            "Random Forest : 0.8953040451078568\n"
          ]
        }
      ],
      "source": [
        "for i in range(len(names)):\n",
        "    print(names[i], \":\", results[i])"
      ]
    },
    {
      "cell_type": "markdown",
      "metadata": {
        "id": "MUQsObybO1yS"
      },
      "source": [
        "# With hypermeter accuracy_score, precision_score, recall_score, f1_score Compare LogisticRegression with RandomForestClassifier"
      ]
    },
    {
      "cell_type": "code",
      "execution_count": null,
      "metadata": {
        "id": "rNzf6D4nO1yT"
      },
      "outputs": [],
      "source": [
        "X = X\n",
        "y = y"
      ]
    },
    {
      "cell_type": "code",
      "execution_count": null,
      "metadata": {
        "id": "H7HAmzsIO1yT"
      },
      "outputs": [],
      "source": [
        "# Split the data into training and testing sets\n",
        "X_train, X_test, y_train, y_test = train_test_split(X, y, test_size=0.2, random_state=42)\n",
        "\n",
        "# Create a Random Forest classifier\n",
        "clf = RandomForestClassifier(n_estimators=100, random_state=42)"
      ]
    },
    {
      "cell_type": "code",
      "execution_count": null,
      "metadata": {
        "id": "VNXIevHzO1yU"
      },
      "outputs": [],
      "source": [
        "clf.fit(X_train, y_train)\n",
        "\n",
        "# Make predictions on the test set\n",
        "y_pred_proba = clf.predict_proba(X_test)[:,1]"
      ]
    },
    {
      "cell_type": "code",
      "execution_count": null,
      "metadata": {
        "id": "hl9b8N1FO1yU",
        "outputId": "afd933e9-63f6-4e66-aa3d-2fbf0c0b984f"
      },
      "outputs": [
        {
          "name": "stdout",
          "output_type": "stream",
          "text": [
            "ROC-AUC: 0.8966303688837322\n"
          ]
        }
      ],
      "source": [
        "roc_auc = roc_auc_score(y_test, y_pred_proba)\n",
        "print('ROC-AUC:', roc_auc)"
      ]
    },
    {
      "cell_type": "code",
      "execution_count": null,
      "metadata": {
        "id": "A8B2eoOqO1yW",
        "outputId": "da5fc6a0-db49-4021-b3de-35e10085f476"
      },
      "outputs": [
        {
          "name": "stdout",
          "output_type": "stream",
          "text": [
            "Logistic Regression\n",
            "Best hyperparameters: {'C': 0.1}\n",
            "Cross-validation scores: [0.8983308  0.89188164 0.89662367 0.89946889 0.8943475 ]\n",
            "Mean cross-validation score: 0.8961305007587252\n",
            "Accuracy: 0.8839150227617603\n",
            "Precision: 0.5434083601286174\n",
            "Recall: 0.21338383838383837\n",
            "F1-score: 0.30643699002719854\n",
            "\n",
            "Random Forest\n",
            "Best hyperparameters: {'max_depth': 20, 'n_estimators': 500}\n",
            "Cross-validation scores: [0.89586495 0.89150228 0.89377845 0.8983308  0.89567527]\n",
            "Mean cross-validation score: 0.8950303490136571\n",
            "Accuracy: 0.8893778452200304\n",
            "Precision: 0.576271186440678\n",
            "Recall: 0.3005050505050505\n",
            "F1-score: 0.39502074688796684\n",
            "\n"
          ]
        }
      ],
      "source": [
        "# Normalize data\n",
        "scaler = StandardScaler()\n",
        "X_train = scaler.fit_transform(X_train)\n",
        "X_test = scaler.transform(X_test)\n",
        "\n",
        "# Define models\n",
        "models = {\n",
        "    'Logistic Regression': LogisticRegression(),\n",
        "    'Random Forest': RandomForestClassifier()\n",
        "}\n",
        "\n",
        "# Define hyperparameters for Grid Search\n",
        "param_grid = {\n",
        "    'Logistic Regression': {'C': [0.1, 1, 10]},\n",
        "    'Random Forest': {'n_estimators': [100, 200, 500], 'max_depth': [5, 10, 20]}\n",
        "}\n",
        "\n",
        "# Train and evaluate models using cross-validation\n",
        "for name, model in models.items():\n",
        "    print(name)\n",
        "    # Find best hyperparameters using Grid Search\n",
        "    grid = GridSearchCV(model, param_grid[name], cv=5)\n",
        "    grid.fit(X_train, y_train)\n",
        "    print('Best hyperparameters:', grid.best_params_)\n",
        "    # Evaluate performance using cross-validation\n",
        "    scores = cross_val_score(grid.best_estimator_, X_train, y_train, cv=5)\n",
        "    print('Cross-validation scores:', scores)\n",
        "    print('Mean cross-validation score:', scores.mean())\n",
        "    # Make predictions on test set and evaluate performance\n",
        "    y_pred = grid.best_estimator_.predict(X_test)\n",
        "    print('Accuracy:', accuracy_score(y_test, y_pred))\n",
        "    print('Precision:', precision_score(y_test, y_pred))\n",
        "    print('Recall:', recall_score(y_test, y_pred))\n",
        "    print('F1-score:', f1_score(y_test, y_pred))\n",
        "    print()"
      ]
    },
    {
      "cell_type": "code",
      "execution_count": null,
      "metadata": {
        "id": "LiPGbXDiO1yX"
      },
      "outputs": [],
      "source": []
    }
  ],
  "metadata": {
    "colab": {
      "provenance": []
    },
    "kernelspec": {
      "display_name": "Python 3 (ipykernel)",
      "language": "python",
      "name": "python3"
    },
    "language_info": {
      "codemirror_mode": {
        "name": "ipython",
        "version": 3
      },
      "file_extension": ".py",
      "mimetype": "text/x-python",
      "name": "python",
      "nbconvert_exporter": "python",
      "pygments_lexer": "ipython3",
      "version": "3.9.13"
    }
  },
  "nbformat": 4,
  "nbformat_minor": 0
}